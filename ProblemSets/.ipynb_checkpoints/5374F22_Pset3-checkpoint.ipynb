{
 "cells": [
  {
   "cell_type": "markdown",
   "id": "31a52961",
   "metadata": {},
   "source": [
    "## TXST MATH 5374. Numerical Linear Algebra. Fall 2022.\n",
    "\n",
    "## Problem Set 2\n"
   ]
  },
  {
   "cell_type": "markdown",
   "id": "d371a068",
   "metadata": {},
   "source": [
    "1. Let $A$ be a $m \\times n$ matrix (i.e. $m$ rows and $n$ columns). Let $c_1,\\ldots,c_n$ denotes the columns of $A$, and let $r_1,\\ldots,r_m$ denotes the rows of $A$. Describe the matrices $A^tA$ and $AA^t$ in terms of these families of vectors.\n",
    "\n",
    "\n",
    "2. Let $A$ be a $n\\times n$ matrix, prove the following: \n",
    "     * $A$ is invertible if and only if the columns of $A$ form a basis of $\\mathbb{R}^n$ \n",
    "     * $A$ is invertible if and only if $A^t$ is invertible \n",
    "     * $A$ is invertible if and only if the rows of $A$ form a basis of $\\mathbb{R}^n$.\n",
    "     \n",
    "     \n",
    "3. Let $A$ be a $m\\times n$ matrix. Show that the $m\\times m$ matrix $A^tA$ and the $n\\times n$ matrix $AA^t$ are both positive semi-definite matrices. Moreover, show that if $A$ is of maximum rank (i.e. $\\text{rank}(A) = \\min\\{m,n\\}$), then each of these matrices is invertible.       \n",
    "\n",
    "\n",
    "4.  Let $A$ be a $n\\times n$ matrix. Show the following: \n",
    "    * The matrix is orthogonal (i.e. $\\|Ax\\|_2=\\|x\\|_2$ for all $x$) if and only if $A^t A = I$\n",
    "    * The matrix is orthogonal if and only if the columns of $A$ form an orthonormal basis of $\\mathbb{R}^n$.\n",
    "    * If $\\|A\\| \\geq 1$ and $\\|A^{-1}\\| \\geq 1$, then $A$ is orthogonal.\n",
    "\n",
    "\n",
    "5.  The **trace** of a $n\\times n$ matrix $A$, denoted $\\text{tr}(A)$, is defined as \n",
    "   $$ \\text{tr}(A) = \\sum \\limits_{i=1}^n a_{ii}$$\n",
    "   (Note: recall that the characteristic polynomial of $A$ is defined by the formula $p_{A}(x) = \\det(A-xI)$, and that $\\det(AB) = \\det(A)\\det(B)$).\n",
    "   \n",
    "   * Show that $-\\text{tr}(A)$ is equal to the coefficient for $x^1$ in the characteristic polynomial\n",
    "   \n",
    "   * Show that if $M$ is **any** invertible matrix, then $M^{-1}AM$ and $A$ have the same characteristic polynomial, and in particular $\\text{tr}(M^{-1}AM) = \\text{tr}(A)$.\n",
    "   \n",
    "   * Fix $m,n$. For any two $m\\times n$ matrices $A$ and $B$, we consider the expression\n",
    "    $$\\langle A,B\\rangle := \\text{tr}(A^tB) $$\n",
    "   The expression $\\langle A,B\\rangle$ is an inner product in the vector space of $m\\times n$ matrices (you don't have to prove this). Show that if $Q$ is a $n\\times n$ orthogonal matrix, then\n",
    "   $$\\langle QA,QB\\rangle = \\langle A,B\\rangle,$$\n",
    "   and show that if $Q$ is instead a $m\\times m$ orthogonal matrix, then\n",
    "   $$\\langle AQ,BQ\\rangle = \\langle A,B\\rangle.$$   \n",
    "\n",
    "\n",
    "6.  For any $\\lambda \\in \\mathbb{R}$ consider the matrix \n",
    "   $$ A_{\\lambda} = \\left ( \\begin{array}{cc} 1 & \\lambda  \\\\ 0 & 1\\end{array} \\right ) $$\n",
    "   * Show that $A_{\\lambda_1}A_{\\lambda_2} = A_{\\lambda_1+\\lambda_2}$ and $A_{\\lambda}^{-1} = A_{-\\lambda}$\n",
    "   \n",
    "   * Consider for each $t \\in [0,2\\pi)$ the vector $x_t = (\\cos(t),\\sin(t))$. Write down a simple expression for the function\n",
    "   $$ f(t) = \\|A_\\lambda x_t\\|_2^2$$\n",
    "   \n",
    "   * Show $f(t)$ has exactly 4 critical points in $[0,2\\pi)$, given by $at = \\pm \\tfrac{1}{2}\\arctan(\\tfrac{2}{\\lambda})$ and $t=\\pm(-\\tfrac{1}{2}\\arctan(\\tfrac{2}{\\lambda})+\\tfrac{\\pi}{2})$.\n",
    "   \n",
    "   * Use all of the above to find $\\|A_\\lambda\\|$ and $\\text{cond}(A_\\lambda)$.\n",
    "   \n",
    "   \n",
    "7.  This exercise will give you some practice thinking about ill-conditioned matrices. Namely, we are going to generate a list of matrices with larger and larger condition number, and for each matrix we will solve two slightly different equations (by merely changing the right hand side a little bit), then we will plot the relative error between these two slightly different problems as a function of $k$, to visualize the growth in the error.\n",
    "\n",
    "    * Run a loop to generate a **list** of matrices, denoted `A`, with $17$ elements, where for each $0\\leq k < 17$ the matrix $A_k$ is defined by\n",
    "    $$A_k = \\left ( \\begin{array}{cc} 1 & 10^k \\\\ 0 & 1\\end{array}\\right )$$ \n",
    "    Use the `numpy.linalg.cond` function to compute the condition number of each of these matrices, storing the result in an array of length $17$ called `cond_numbers`.\n",
    "    * Define two arrays `b1` and `b2` with values given by\n",
    "    $$b_1 = \\left( \\begin{array}{c} 1 \\\\ 0 \\end{array}\\right ),\\;b_2 = \\left( \\begin{array}{c} 1 \\\\ 0.01 \\end{array}\\right )  $$\n",
    "    Then, run a loop that repeatedly calls the solver function `numpy.linalg.solve` to generate **two lists**, `z1` and `z2`, where the $k$-th element in each list corresponds, respectively, to the solution of the equations\n",
    "    $$ A_k z_1 = b_1,\\;\\;A_k z_2 = b_2$$\n",
    "\n",
    "    * Generate one more array (of length $17$), `rel_error`, and for each $k=0,1,\\ldots,16$ assignt tto `rel_error[k]` the relative error between the corresponding entries of $z1$ and $z2$.\n",
    "    \n",
    "    * In pyplot, plot the array `rel_error`. What do you see?. In a separate cell, plot the logarithm of `rel_error` (i.e. plot the array `nump.log(rel_error)`). What do you see now? Interpret the difference in shapes for these two plots and explain what it tells you about the growth of the relative error as $k$ grows.\n",
    "    \n",
    "    * In the same plot, plot the array `numpy.log(rel_error)` using blue and the array `numpy.log(cond)` using red. Interpret what you see in terms of the inequality we derived in class relating the condition number and the backward/forward errors.\n",
    "  \n",
    "8.  Another linalg experiment. Maybe, use the linalg package to compute the inverse of a given matrix $A$ in two different ways: one that uses the internal linalg function, and another that solves the n linear systems $Ax = e_k$ where $e_1,\\ldots,e_n$ is the canonical basis. Then you can use this to compare resulting forward and backward errors\n",
    "\n",
    "\n",
    "9.  Go to the Scipy Lectures chapter  on sparse matrices (i.e. SciPy Lectures 2020 chapter 12, might be a different chapter for different editions), and read sections 12.1 and 12.2. Write a function `DiscreteLaplace(N)` that takes as input a natural number $N$ and returns a sparse $N\\times N$ matrix in DOK format representing a discretization of the second derivative operator in the interval $(0,1)$ using $N$-equally space points $0,1/N,\\ldots,(N-1)/N$. Calling this matrix $D = (d_{ij})$, the matrix is given by (here $h= 1/N$)\n",
    "$$d_{ij} = \\left \\{ \\begin{array}{ll} h^{-2} &\\text{if } j=i\\pm 1 \\text{ and } i \\neq 0,N-1  \\\\ \n",
    "h^{-2} & \\text{if } i = 0 \\text{ and } j =1\\\\\n",
    "h^{-2} & \\text{if } i = N-1 \\text{ and } j=N-2\\\\\n",
    "-2h^{-2} &\\text{if } i=j \\\\ 0 & \\text{otherwise} \\end{array}\\right.$$\n",
    "    Once you create `DiscreteLaplace(N)`, call it with $N=10^4$ and solve the equation $Az = b$ with $b$ the vector whose coordinates are all equal to $1$."
   ]
  },
  {
   "cell_type": "code",
   "execution_count": 433,
   "id": "fd3c0eee",
   "metadata": {},
   "outputs": [],
   "source": [
    "import numpy as np\n",
    "import matplotlib.pyplot as plt\n",
    "\n",
    "A = []\n",
    "A_inv = []\n",
    "b1 = np.array([1,0])\n",
    "b2 = np.array([1,0.01])\n",
    "for k in range(18):\n",
    "    A.append(np.array([[1,10**(k)],[0,1]]))\n",
    "    A_inv.append(np.array([[1,-10**(k)],[0,1]]))"
   ]
  },
  {
   "cell_type": "code",
   "execution_count": 434,
   "id": "4941c570",
   "metadata": {},
   "outputs": [],
   "source": [
    "rel_error = np.empty(len(A))\n",
    "cond = np.empty(len(A))\n",
    "for k in range(len(A)):    \n",
    "    cond[k] = np.linalg.norm(A[k])\n",
    "    rel_error[k] = np.linalg.norm(np.linalg.solve(A[k],b1)-np.linalg.solve(A[k],b2))/np.linalg.norm(np.linalg.solve(A[k],b1))"
   ]
  },
  {
   "cell_type": "code",
   "execution_count": 438,
   "id": "26d3b313",
   "metadata": {},
   "outputs": [
    {
     "data": {
      "text/plain": [
       "[<matplotlib.lines.Line2D at 0x7fcd01b37940>]"
      ]
     },
     "execution_count": 438,
     "metadata": {},
     "output_type": "execute_result"
    },
    {
     "data": {
      "image/png": "[encoded data removed]",
      "text/plain": [
       "<Figure size 432x288 with 1 Axes>"
      ]
     },
     "metadata": {
      "needs_background": "light"
     },
     "output_type": "display_data"
    }
   ],
   "source": [
    "plt.plot(np.log(rel_error))\n",
    "plt.plot(np.log((0.01)*cond), color='red')"
   ]
  },
  {
   "cell_type": "code",
   "execution_count": 437,
   "id": "e8261876",
   "metadata": {},
   "outputs": [
    {
     "data": {
      "text/plain": [
       "[<matplotlib.lines.Line2D at 0x7fcd019ea490>]"
      ]
     },
     "execution_count": 437,
     "metadata": {},
     "output_type": "execute_result"
    },
    {
     "data": {
      "image/png": "[encoded data removed]",
      "text/plain": [
       "<Figure size 432x288 with 1 Axes>"
      ]
     },
     "metadata": {
      "needs_background": "light"
     },
     "output_type": "display_data"
    }
   ],
   "source": [
    "plt.plot(rel_error/cond)"
   ]
  },
  {
   "cell_type": "code",
   "execution_count": null,
   "id": "0f6b976e",
   "metadata": {},
   "outputs": [],
   "source": []
  },
  {
   "cell_type": "code",
   "execution_count": null,
   "id": "2df68aaf",
   "metadata": {},
   "outputs": [],
   "source": []
  },
  {
   "cell_type": "code",
   "execution_count": null,
   "id": "26ec730e",
   "metadata": {},
   "outputs": [],
   "source": []
  }
 ],
 "metadata": {
  "kernelspec": {
   "display_name": "Python 3",
   "language": "python",
   "name": "python3"
  },
  "language_info": {
   "codemirror_mode": {
    "name": "ipython",
    "version": 3
   },
   "file_extension": ".py",
   "mimetype": "text/x-python",
   "name": "python",
   "nbconvert_exporter": "python",
   "pygments_lexer": "ipython3",
   "version": "3.8.8"
  }
 },
 "nbformat": 4,
 "nbformat_minor": 5
}
