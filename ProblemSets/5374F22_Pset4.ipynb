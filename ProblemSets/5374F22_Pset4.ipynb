{
 "cells": [
  {
   "cell_type": "markdown",
   "id": "31a52961",
   "metadata": {},
   "source": [
    "## TXST MATH 5374. Numerical Linear Algebra. Fall 2022.\n",
    "\n",
    "## Problem Set 4\n",
    "\n",
    "### (Due on December 5th, at 11:59 pm)"
   ]
  },
  {
   "cell_type": "markdown",
   "id": "d371a068",
   "metadata": {},
   "source": [
    "1. Write a function (`GradientDescent`) that takes as input a positive definite matrix $A$, a vector $b$, and a number $K$ it runs $K$ iterations of gradient descent (initialized at the zero vector) and returns the resulting vector. Then, apply this to $b = (2,1)^t$ and $A = M^tM$, where $$M = \\left ( \\begin{array}{cc} 4 & 1 \\\\ 0 & 1\\end{array}\\right )$$. Run the function for $K=5,10,25$ iterations, save the results as `z1`, `z2`, and `z3`, respectively, and print the distances between each of these to `z0`, where `z0 = np.linalg.solve(A,b)`.\n",
    "    \n",
    "2. Consider the matrix $A$ defined by $A = M^tM$ where $$M = \\left ( \\begin{array}{cc} 10 & 1 \\\\ 0 & 1\\end{array}\\right )$$. Repeat the same experiment as in the previous question, using instead $k=10,100,300$ and as before printing the distances between each output to `z0`, given again by `z0 = np.linalg.solve(A,b)`.\n",
    "    \n",
    "3. Run the same code as in question #2, but now try different values of $K$ ($K=300,500,\\ldots,1000,\\ldots$) until you get a NaN error. Explain what is going on here.\n",
    "\n",
    "4. (Gradient flow) This problem is meant as an introduction to gradient flow (gradient descent is a discrete version of such a flow). Consider the function $ f(x) = \\tfrac{1}{2}(Ax,x)-(x,b)$, and let $x(t)$ be any solution to the differential equation $$ \\dot x(t) = -Ax(t)+b$$ Then a) show that the function $t\\mapsto f(x(t))$ is non-increasing in time c) let $x_*$ solve $Ax_* = b$, what happens if $x(0)=x_*$? suppose further that $A$ is a positive definite function whose smallest eigenvalue is $\\lambda_0>0$, use the definition of $x_*$ to show that $$\\frac{d}{dt}\\|x(t)-x_*\\|^2 = -2(A(x(t)-x_*),x(t)-x_*) $$ From here, conclude that $\\frac{d}{dt}\\|x(t)-x_*\\|^2 \\leq -2\\lambda_0\\|x(t)-x_*\\|^2$.\n"
   ]
  }
 ],
 "metadata": {
  "kernelspec": {
   "display_name": "Python 3",
   "language": "python",
   "name": "python3"
  },
  "language_info": {
   "codemirror_mode": {
    "name": "ipython",
    "version": 3
   },
   "file_extension": ".py",
   "mimetype": "text/x-python",
   "name": "python",
   "nbconvert_exporter": "python",
   "pygments_lexer": "ipython3",
   "version": "3.8.8"
  }
 },
 "nbformat": 4,
 "nbformat_minor": 5
}
