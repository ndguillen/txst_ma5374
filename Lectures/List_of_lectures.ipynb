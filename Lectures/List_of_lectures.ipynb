{
 "cells": [
  {
   "cell_type": "markdown",
   "id": "628afab0",
   "metadata": {},
   "source": [
    "# LIST OF LECTURES (TOPIC + BOOK REFERENCES)\n",
    "\n",
    "* Lecture 1. Examples of Linear Problems. The scientific computing philosophy.\n",
    "* Lecture 2. Python and Jupyter Notebook basics. Types of cells. Numpy and arrays. Pyplot. Defining functions. Basic operations with arrays.\n",
    "* Lecture 3. The scientific computing philosophy. Examples and discussion: i) the algorithm intractability of Cramers rule in all but the lowest dimensions. ii) The backsubstitution algorithm and its complexity. iii) complexity of the inversion of an upper triangular matrix, and other examples.\n",
    "* Lecture 4. A rapid linear algebra review. Vector spaces and examples. Matrices and matrix-vector multiplication. Linear transformations. Measuring and estimating error.  Definition of a norm. Examples of norms: $L^p$ norms, matrix norms (operator norm and Frobenius norm).\n",
    "* Lecture 5. Sensitivity analysis (condition numbers, absolute and relative errors, and the relationship between all of them). Basic properties of the condition number.\n",
    "* Lecture 6. The condition number of a matrix (continued). Examples and general facts about the condition number of a matrix.\n",
    "* Lecture 7. The condition number of a matrix and error analysis for the linear equation $Az=b$. An abstract framework for mathematical problems and algorithms, with examples. Types of error: forward error, backward error.\n",
    "* Lecture 8. More on mathematical problems and algorithms. Backward stability. Machine epsilon. Working with sparse matrices in Python. \n",
    "* Lecture 9. Working with sparse matrices in Python (Jupyter Notebook)\n",
    "* Lecture 10. Linear algebra review: linear transformations and the space of all linear transformations.\n",
    "* Lecture 11. Liner algebra review: Bases, conjugation of matrices. Inner products (real and Hermitian) and orthogonality. Examples.\n",
    "* Lecture 12. Linear algebra review continued: more on inner products and orthogonality. Transpose and adjoint. Orthogonal matrices\n",
    "* Lecture 13. Orthogonality and the QR decomposition. \n",
    "* Lecture 14. The Gram-Schmidt process and the QR decomposition. Projectors. Least square problems. \n",
    "* Lecture 15. More on least square problems. Solution via QR decomposition. \n",
    "* Lecture 16. Further remarks on the QR decomposition (reduced versus generalized QR decomposition). Determinants of orthogonal matrices. Parametric regression and least squares. Example: discrete Fourier basis for equi-distant points in an interval. \n"
   ]
  },
  {
   "cell_type": "code",
   "execution_count": null,
   "id": "670b2722",
   "metadata": {},
   "outputs": [],
   "source": []
  }
 ],
 "metadata": {
  "kernelspec": {
   "display_name": "Python 3 (ipykernel)",
   "language": "python",
   "name": "python3"
  },
  "language_info": {
   "codemirror_mode": {
    "name": "ipython",
    "version": 3
   },
   "file_extension": ".py",
   "mimetype": "text/x-python",
   "name": "python",
   "nbconvert_exporter": "python",
   "pygments_lexer": "ipython3",
   "version": "3.8.12"
  }
 },
 "nbformat": 4,
 "nbformat_minor": 5
}
