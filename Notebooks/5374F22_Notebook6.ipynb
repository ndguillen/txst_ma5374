{
 "cells": [
  {
   "cell_type": "code",
   "execution_count": 2,
   "id": "ea38ff30",
   "metadata": {},
   "outputs": [],
   "source": [
    "import numpy as np\n",
    "import matplotlib.pyplot as plt\n",
    "import scipy.linalg as la"
   ]
  },
  {
   "cell_type": "code",
   "execution_count": 24,
   "id": "4831e6b0",
   "metadata": {},
   "outputs": [],
   "source": [
    "m = np.array([0,0]) #np.random.multivariate_normal(np.array([0,0]),np.eye(2)) \n",
    "Diag = np.diag((10,1/10))\n",
    "theta = np.random.uniform(low=0.0,high=np.pi)\n",
    "R = np.array([[np.cos(theta),-np.sin(theta)],[np.sin(theta),np.cos(theta)]])\n",
    "Cov = R @ Diag @ R.T"
   ]
  },
  {
   "cell_type": "code",
   "execution_count": 25,
   "id": "3f611efd",
   "metadata": {},
   "outputs": [],
   "source": [
    "N = 100\n",
    "X = np.random.multivariate_normal(m,Cov,size = N)\n",
    "#plt.axes().set_aspect('equal')\n",
    "#plt.scatter(X[:,0],X[:,1],color='blue')"
   ]
  },
  {
   "cell_type": "code",
   "execution_count": 26,
   "id": "32dce418",
   "metadata": {},
   "outputs": [
    {
     "data": {
      "text/plain": [
       "[<matplotlib.lines.Line2D at 0x7f8613ac98b0>]"
      ]
     },
     "execution_count": 26,
     "metadata": {},
     "output_type": "execute_result"
    },
    {
     "data": {
      "image/png": "[encoded data removed]",
      "text/plain": [
       "<Figure size 432x288 with 1 Axes>"
      ]
     },
     "metadata": {
      "needs_background": "light"
     },
     "output_type": "display_data"
    }
   ],
   "source": [
    "plt.axes().set_aspect('equal')\n",
    "\n",
    "plt.scatter(X[:,0],X[:,1],color='blue')\n",
    "\n",
    "U, Sigma, Vadj = la.svd(X,full_matrices=False)\n",
    "V = Vadj.T\n",
    "\n",
    "plt.plot([-10*V[0,0],10*V[0,0]],[-10*V[1,0],10*V[1,0]],color='red')"
   ]
  },
  {
   "cell_type": "code",
   "execution_count": null,
   "id": "de9486a0",
   "metadata": {},
   "outputs": [],
   "source": []
  }
 ],
 "metadata": {
  "kernelspec": {
   "display_name": "Python 3",
   "language": "python",
   "name": "python3"
  },
  "language_info": {
   "codemirror_mode": {
    "name": "ipython",
    "version": 3
   },
   "file_extension": ".py",
   "mimetype": "text/x-python",
   "name": "python",
   "nbconvert_exporter": "python",
   "pygments_lexer": "ipython3",
   "version": "3.8.8"
  }
 },
 "nbformat": 4,
 "nbformat_minor": 5
}
