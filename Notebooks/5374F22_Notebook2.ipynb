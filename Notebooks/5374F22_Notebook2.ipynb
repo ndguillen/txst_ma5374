{
  "nbformat": 4,
  "nbformat_minor": 0,
  "metadata": {
    "colab": {
      "provenance": []
    },
    "kernelspec": {
      "name": "python3",
      "display_name": "Python 3"
    },
    "language_info": {
      "name": "python"
    }
  },
  "cells": [
    {
      "cell_type": "code",
      "execution_count": null,
      "metadata": {
        "id": "l2eRO_TCxBWq"
      },
      "outputs": [],
      "source": [
        "import numpy as np\n",
        "import matplotlib.pyplot as plt\n",
        "import scipy.sparse as sps"
      ]
    },
    {
      "cell_type": "markdown",
      "source": [
        "# Howdy! This is a markdown cell\n",
        "\n",
        "It has all the usual markdown properties.\n",
        "\n",
        "I can do LaTeX in it\n",
        "\n",
        "$$ \\int_0^\\infty e^{-t^2}\\;dt$$\n",
        "\n",
        "Today, we are going to learn about sparse matrices"
      ],
      "metadata": {
        "id": "kLky75QRxVv2"
      }
    },
    {
      "cell_type": "markdown",
      "source": [
        "One of the most popular (but by the far not the only one) use of sparse matrices is in the numerical analysis of partial differential equations. We are going to study the 1D version of the Laplace and Poisson equations:\n",
        "\n",
        "Find $u(x)$ for $x\\in (0,1)$ solving\n",
        "\n",
        "$$ \\begin{array}{ll} u''(x) & = f(x) \\text{ for } x \\in (0,1) \\\\\n",
        "u(x) & = g(x) \\text{ for } x \\in \\{0,1\\}\n",
        "\\end{array}$$  "
      ],
      "metadata": {
        "id": "HxUueanxy2YE"
      }
    },
    {
      "cell_type": "code",
      "source": [
        "# Create my approximation to (0,1)\n",
        "# by setting a discrete step size\n",
        "\n",
        "h = 1e-2\n",
        "x = np.arange(0,1,h)\n",
        "print(x)"
      ],
      "metadata": {
        "colab": {
          "base_uri": "https://localhost:8080/"
        },
        "id": "d8XKxDQRxM0x",
        "outputId": "4fa92be6-c732-412f-e8ba-3ce56ac150e2"
      },
      "execution_count": null,
      "outputs": [
        {
          "output_type": "stream",
          "name": "stdout",
          "text": [
            "[0.   0.01 0.02 0.03 0.04 0.05 0.06 0.07 0.08 0.09 0.1  0.11 0.12 0.13\n",
            " 0.14 0.15 0.16 0.17 0.18 0.19 0.2  0.21 0.22 0.23 0.24 0.25 0.26 0.27\n",
            " 0.28 0.29 0.3  0.31 0.32 0.33 0.34 0.35 0.36 0.37 0.38 0.39 0.4  0.41\n",
            " 0.42 0.43 0.44 0.45 0.46 0.47 0.48 0.49 0.5  0.51 0.52 0.53 0.54 0.55\n",
            " 0.56 0.57 0.58 0.59 0.6  0.61 0.62 0.63 0.64 0.65 0.66 0.67 0.68 0.69\n",
            " 0.7  0.71 0.72 0.73 0.74 0.75 0.76 0.77 0.78 0.79 0.8  0.81 0.82 0.83\n",
            " 0.84 0.85 0.86 0.87 0.88 0.89 0.9  0.91 0.92 0.93 0.94 0.95 0.96 0.97\n",
            " 0.98 0.99]\n"
          ]
        }
      ]
    },
    {
      "cell_type": "code",
      "source": [
        "# x is a numpy array of length 1000, \n",
        "# you can generate new arrays by doing algebraic or other functions on x\n",
        "# as long as they return an array\n",
        "\n",
        "y = 4*x*x+18*x-40\n",
        "plt.plot(x,y)"
      ],
      "metadata": {
        "colab": {
          "base_uri": "https://localhost:8080/",
          "height": 283
        },
        "id": "MQkLRtPFzNvk",
        "outputId": "4bd90ed3-776a-4765-f8ab-3f5671000d8d"
      },
      "execution_count": null,
      "outputs": [
        {
          "output_type": "execute_result",
          "data": {
            "text/plain": [
              "[<matplotlib.lines.Line2D at 0x7f6130b55850>]"
            ]
          },
          "metadata": {},
          "execution_count": 14
        },
        {
          "output_type": "display_data",
          "data": {
            "text/plain": [
              "<Figure size 432x288 with 1 Axes>"
            ],
            "image/png": "[encoded data removed]"
          },
          "metadata": {
            "needs_background": "light"
          }
        }
      ]
    },
    {
      "cell_type": "code",
      "source": [
        "x = np.arange(-10,10,h)\n",
        "y = 4*x*x+18*x-40\n",
        "plt.plot(x,y)"
      ],
      "metadata": {
        "colab": {
          "base_uri": "https://localhost:8080/",
          "height": 283
        },
        "id": "IfHQilZfzOY-",
        "outputId": "b90e7fa1-7471-4da1-cd6e-527d15fd78ee"
      },
      "execution_count": null,
      "outputs": [
        {
          "output_type": "execute_result",
          "data": {
            "text/plain": [
              "[<matplotlib.lines.Line2D at 0x7f61307f2b10>]"
            ]
          },
          "metadata": {},
          "execution_count": 15
        },
        {
          "output_type": "display_data",
          "data": {
            "text/plain": [
              "<Figure size 432x288 with 1 Axes>"
            ],
            "image/png": "[encoded data removed]"
          },
          "metadata": {
            "needs_background": "light"
          }
        }
      ]
    },
    {
      "cell_type": "code",
      "source": [
        "x = np.arange(-10,10,h)\n",
        "y = 1/(1+x**2)\n",
        "plt.plot(x,y)"
      ],
      "metadata": {
        "colab": {
          "base_uri": "https://localhost:8080/",
          "height": 283
        },
        "id": "1DHgCbJ51CXG",
        "outputId": "cb84b5f4-35ea-402b-d713-517aa10991f6"
      },
      "execution_count": null,
      "outputs": [
        {
          "output_type": "execute_result",
          "data": {
            "text/plain": [
              "[<matplotlib.lines.Line2D at 0x7f61302ee310>]"
            ]
          },
          "metadata": {},
          "execution_count": 16
        },
        {
          "output_type": "display_data",
          "data": {
            "text/plain": [
              "<Figure size 432x288 with 1 Axes>"
            ],
            "image/png": "[encoded data removed]"
          },
          "metadata": {
            "needs_background": "light"
          }
        }
      ]
    },
    {
      "cell_type": "code",
      "source": [
        "x = np.arange(-10,10,h)\n",
        "y = np.sin(x)\n",
        "plt.plot(x,y)"
      ],
      "metadata": {
        "colab": {
          "base_uri": "https://localhost:8080/",
          "height": 283
        },
        "id": "TUBdTO7A1Ijw",
        "outputId": "813339a9-74ca-445d-9f15-ecb7dfad71ec"
      },
      "execution_count": null,
      "outputs": [
        {
          "output_type": "execute_result",
          "data": {
            "text/plain": [
              "[<matplotlib.lines.Line2D at 0x7f61301fe8d0>]"
            ]
          },
          "metadata": {},
          "execution_count": 17
        },
        {
          "output_type": "display_data",
          "data": {
            "text/plain": [
              "<Figure size 432x288 with 1 Axes>"
            ],
            "image/png": "[encoded data removed]"
          },
          "metadata": {
            "needs_background": "light"
          }
        }
      ]
    },
    {
      "cell_type": "markdown",
      "source": [
        "What we are going to do is to generate a $n\\times n$ matrix approximating the second derivative operator $u\\mapsto u''$\n",
        "\n",
        "For this it is convenient to use a new object called a sparse matrix, and these are objects of several kinds brought by the scipy.sparse package"
      ],
      "metadata": {
        "id": "kuzAt9LD1ayK"
      }
    },
    {
      "cell_type": "code",
      "source": [
        "# The first we are going to study is the \"Dictionary of Keys\" (DOK)\n",
        "# sparse matrix object\n",
        "\n",
        "h = 1e-2\n",
        "x = np.arange(0,1,h)\n",
        "\n",
        "A = sps.dok_matrix((len(x),len(x)))"
      ],
      "metadata": {
        "id": "QhVR7JXK1QFA"
      },
      "execution_count": null,
      "outputs": []
    },
    {
      "cell_type": "code",
      "source": [
        "# A is basically a dictionary\n",
        "\n",
        "for k in range(1,len(x)-1):\n",
        "  A[k,k] = -2/(h**2)\n",
        "  A[k,k+1] = 1/(h**2)\n",
        "  A[k,k-1] = 1/(h**2)\n"
      ],
      "metadata": {
        "id": "WkSaFMny1vG-"
      },
      "execution_count": null,
      "outputs": []
    },
    {
      "cell_type": "code",
      "source": [
        "M = A.todense()"
      ],
      "metadata": {
        "id": "1Wksclz-2T7P"
      },
      "execution_count": null,
      "outputs": []
    },
    {
      "cell_type": "code",
      "source": [
        "type(M)"
      ],
      "metadata": {
        "colab": {
          "base_uri": "https://localhost:8080/"
        },
        "id": "VHLhVfdj2VhB",
        "outputId": "9aee5ee7-ac00-47f4-dbe3-0eb17dd50b27"
      },
      "execution_count": null,
      "outputs": [
        {
          "output_type": "execute_result",
          "data": {
            "text/plain": [
              "numpy.matrix"
            ]
          },
          "metadata": {},
          "execution_count": 32
        }
      ]
    },
    {
      "cell_type": "code",
      "source": [
        "plt.matshow(M)"
      ],
      "metadata": {
        "colab": {
          "base_uri": "https://localhost:8080/",
          "height": 293
        },
        "id": "HgkaBkig2Wq7",
        "outputId": "4b5568b1-fa44-4efe-d507-d658f355b9dc"
      },
      "execution_count": null,
      "outputs": [
        {
          "output_type": "execute_result",
          "data": {
            "text/plain": [
              "<matplotlib.image.AxesImage at 0x7f612880ce90>"
            ]
          },
          "metadata": {},
          "execution_count": 33
        },
        {
          "output_type": "display_data",
          "data": {
            "text/plain": [
              "<Figure size 288x288 with 1 Axes>"
            ],
            "image/png": "[encoded data removed]"
          },
          "metadata": {
            "needs_background": "light"
          }
        }
      ]
    },
    {
      "cell_type": "code",
      "source": [],
      "metadata": {
        "id": "68BrHaWdSqzS"
      },
      "execution_count": null,
      "outputs": []
    },
    {
      "cell_type": "code",
      "source": [],
      "metadata": {
        "id": "E3-A0mUKUOLh"
      },
      "execution_count": null,
      "outputs": []
    }
  ]
}