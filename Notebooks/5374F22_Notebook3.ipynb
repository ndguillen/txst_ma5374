{
 "cells": [
  {
   "cell_type": "code",
   "execution_count": 1,
   "metadata": {
    "id": "l2eRO_TCxBWq"
   },
   "outputs": [],
   "source": [
    "import numpy as np\n",
    "import matplotlib.pyplot as plt\n",
    "import scipy.sparse as sps"
   ]
  },
  {
   "cell_type": "markdown",
   "metadata": {
    "id": "HxUueanxy2YE"
   },
   "source": [
    "# Sparse VS. Dense matrices\n",
    "\n",
    "Today, we are going to learn about sparse matrices\n",
    "\n",
    "One of the most popular (but by the far not the only one) use of sparse matrices is in the numerical analysis of partial differential equations. We are going to study the 1D version of the Laplace and Poisson equations:\n",
    "\n",
    "Find $u(x)$ for $x\\in (0,1)$ solving\n",
    "\n",
    "$$ \\begin{array}{ll} u''(x) & = f(x) \\text{ for } x \\in (0,1) \\\\\n",
    "u(x) & = g(x) \\text{ for } x \\in \\{0,1\\}\n",
    "\\end{array}$$  "
   ]
  },
  {
   "cell_type": "code",
   "execution_count": 2,
   "metadata": {
    "colab": {
     "base_uri": "https://localhost:8080/"
    },
    "id": "d8XKxDQRxM0x",
    "outputId": "4fa92be6-c732-412f-e8ba-3ce56ac150e2"
   },
   "outputs": [],
   "source": [
    "# Create my approximation to (0,1)\n",
    "# by setting a discrete step size\n",
    "\n",
    "h = 1e-3 # Stepsize \n",
    "x = np.arange(0,1,h) # An array containing a discrete subset of (0,1) of points placed h apart"
   ]
  },
  {
   "cell_type": "markdown",
   "metadata": {
    "id": "kuzAt9LD1ayK"
   },
   "source": [
    "What we are going to do is to generate a $n\\times n$ matrix approximating the second derivative operator $u\\mapsto u''$\n",
    "\n",
    "For this it is convenient to use a new object called a sparse matrix, and these are objects of several kinds brought by the scipy.sparse package"
   ]
  },
  {
   "cell_type": "code",
   "execution_count": 3,
   "metadata": {},
   "outputs": [
    {
     "data": {
      "text/plain": [
       "[<matplotlib.lines.Line2D at 0x7f8963a11b80>]"
      ]
     },
     "execution_count": 3,
     "metadata": {},
     "output_type": "execute_result"
    },
    {
     "data": {
      "image/png": "[encoded data removed]",
      "text/plain": [
       "<Figure size 432x288 with 1 Axes>"
      ]
     },
     "metadata": {
      "needs_background": "light"
     },
     "output_type": "display_data"
    }
   ],
   "source": [
    "# Last time, we explained how component wise operations on\n",
    "# the array x allows us to create functions (or rather, discrete approximations)\n",
    "# to functions\n",
    "\n",
    "#Example 1\n",
    "y = x**2-2*x+1\n",
    "plt.plot(x,y)"
   ]
  },
  {
   "cell_type": "code",
   "execution_count": 4,
   "metadata": {},
   "outputs": [
    {
     "data": {
      "text/plain": [
       "[<matplotlib.lines.Line2D at 0x7f8963b1b1c0>]"
      ]
     },
     "execution_count": 4,
     "metadata": {},
     "output_type": "execute_result"
    },
    {
     "data": {
      "image/png": "[encoded data removed]",
      "text/plain": [
       "<Figure size 432x288 with 1 Axes>"
      ]
     },
     "metadata": {
      "needs_background": "light"
     },
     "output_type": "display_data"
    }
   ],
   "source": [
    "#Example 2\n",
    "y = 2*np.cos(5*x)-1\n",
    "plt.plot(x,y)"
   ]
  },
  {
   "cell_type": "markdown",
   "metadata": {},
   "source": [
    "We are going to solve first the following concrete problem\n",
    "\n",
    "$$ \\begin{array}{rl} u''(x) = -1  & \\text{ in } (0,1) \\\\ u(x) = 0\\;\\;\\; & \\text{ if } x= 0,1\\end{array}$$\n",
    "\n",
    "We are going to approximate this and reduce it to a system of the form\n",
    "\n",
    "$$ Az = b$$\n",
    "\n",
    "For a well chosen matrix $A$ and vector $b$, and ultimately, the entries of the vector $z$ will approximate the values of the solution $u(x)$ at the points $x= 0,h,2h,\\ldots,1-h$ which approximates the interval $(0,1)$.\n",
    "\n",
    "The basis for this is the well known discrete approximation for the second derivative operator, which follows from the Taylor expansion, namely: if $u$ is a twice differentiable function in $(0,1)$, then for any $x\\in (0,1)$\n",
    "\n",
    "$$ \\frac{u(x+\\delta) + u(x-\\delta) -2u(x)}{\\delta^2} = u''(x) + o(1) \\text{ as } \\delta \\to 0$$ \n",
    "\n",
    "Written differently\n",
    "\n",
    "$$\\frac{(u(x+\\delta)-u(x))-(u(x)-u(x-\\delta))}{\\delta^2} =\\frac{u(x+\\delta) + u(x-\\delta) -2u(x)}{\\delta^2} = u''(x) + o(1) \\text{ as } \\delta \\to 0$$ \n",
    "\n",
    "Based on this, we seek to solve now, not for $u$, but for a discrete version of $u$ defined only at the 'grid points' $0,h,2h,\\ldots,1-h$, as follows: \n",
    "\n",
    "$$\\text{I want } z_k \\text{ to approximate the value } u(kh) \\text{ for } k =0,\\ldots,n$$ \n",
    "\n",
    "where $n$ is the number of grid points (e.g. if $h=1/100$, then $n=100$). The vector $z$ will be defined by the following system of equations\n",
    "\n",
    "$$\\begin{array}{rl} (z_{k+1}+z_{k-1}-2z_{k})/(h^2) = -1 & \\text { if } k =2,3,\\ldots,n-1  \\\\ \n",
    "z_k = 0 & \\text { if } k=1,n \\end{array}$$ \n",
    "\n",
    "As we will see, there is exactly one vector solving this and it will indeed approximate our function $u$"
   ]
  },
  {
   "cell_type": "code",
   "execution_count": 5,
   "metadata": {},
   "outputs": [],
   "source": [
    "# We are going to build a matrix A and a vector b that will codify the last system\n",
    "# of equations, remember n will be the number of unknowns, and we want to be equal\n",
    "# to the length of the array x defined above\n",
    "\n",
    "n = len(x)"
   ]
  },
  {
   "cell_type": "code",
   "execution_count": 34,
   "metadata": {},
   "outputs": [],
   "source": [
    "# First, we define the right hand side, which we call b\n",
    "b = np.ones(n)\n",
    "b[0] = 0\n",
    "b[n-1] = 0\n",
    "b = -b\n",
    "\n",
    "# Now for the matrix, we will do it two ways: as a dense matrix,\n",
    "# and as sparse matrix\n",
    "\n",
    "#########################\n",
    "# Dense matrix approach #\n",
    "######################### \n",
    "\n",
    "# First, we create a matrix comprised entirely\n",
    "# of zeros, and in the desired shape n x n:\n",
    "A_d = np.zeros((n,n))\n",
    "\n",
    "# Now we do a loop to assign the non-zero values\n",
    "for k in range(1,n-1):\n",
    "    A_d[k,k] = -2\n",
    "    A_d[k,k+1] = 1\n",
    "    A_d[k,k-1] = 1    \n",
    "\n",
    "A_d = A_d *(1/(h**2))\n",
    "A_d[0,0] = 1\n",
    "A_d[n-1,n-1] = 1"
   ]
  },
  {
   "cell_type": "code",
   "execution_count": 7,
   "metadata": {},
   "outputs": [
    {
     "name": "stdout",
     "output_type": "stream",
     "text": [
      "[[ 1000000.        0.        0. ...        0.        0.        0.]\n",
      " [ 1000000. -2000000.  1000000. ...        0.        0.        0.]\n",
      " [       0.  1000000. -2000000. ...        0.        0.        0.]\n",
      " ...\n",
      " [       0.        0.        0. ... -2000000.  1000000.        0.]\n",
      " [       0.        0.        0. ...  1000000. -2000000.  1000000.]\n",
      " [       0.        0.        0. ...        0.        0.  1000000.]]\n",
      "\n",
      "We can also print a portion of the matrix:\n",
      "\n",
      "[[ 1000000.        0.        0.        0.        0.]\n",
      " [ 1000000. -2000000.  1000000.        0.        0.]\n",
      " [       0.  1000000. -2000000.  1000000.        0.]\n",
      " [       0.        0.  1000000. -2000000.  1000000.]\n",
      " [       0.        0.        0.  1000000. -2000000.]]\n",
      "\n",
      "We can also use pyplot\n",
      "\n"
     ]
    },
    {
     "data": {
      "text/plain": [
       "<matplotlib.image.AxesImage at 0x7f8963b528b0>"
      ]
     },
     "execution_count": 7,
     "metadata": {},
     "output_type": "execute_result"
    },
    {
     "data": {
      "image/png": "[encoded data removed]",
      "text/plain": [
       "<Figure size 288x288 with 1 Axes>"
      ]
     },
     "metadata": {
      "needs_background": "light"
     },
     "output_type": "display_data"
    }
   ],
   "source": [
    "# Let's check our work by visualizing the matrix A_d\n",
    "\n",
    "# One way is by printing it\n",
    "\n",
    "\n",
    "print(A_d)\n",
    "\n",
    "# Or by printing a sample of it\n",
    "\n",
    "print('')\n",
    "print('We can also print a portion of the matrix:')\n",
    "print('')\n",
    "\n",
    "print(A_d[:5,:5])\n",
    "\n",
    "# One more way to visualize A_d is through\n",
    "# pyplot's matshow function\n",
    "\n",
    "print('')\n",
    "print('We can also use pyplot')\n",
    "print('')\n",
    "\n",
    "\n",
    "plt.matshow(A_d)\n",
    "\n",
    "\n"
   ]
  },
  {
   "cell_type": "code",
   "execution_count": 8,
   "metadata": {},
   "outputs": [
    {
     "data": {
      "text/plain": [
       "<matplotlib.image.AxesImage at 0x7f89657ee1f0>"
      ]
     },
     "execution_count": 8,
     "metadata": {},
     "output_type": "execute_result"
    },
    {
     "data": {
      "image/png": "[encoded data removed]",
      "text/plain": [
       "<Figure size 288x288 with 1 Axes>"
      ]
     },
     "metadata": {
      "needs_background": "light"
     },
     "output_type": "display_data"
    }
   ],
   "source": [
    "# Let's see matshow in a smaller size matrix\n",
    "\n",
    "plt.matshow(A_d[1:50,1:50])"
   ]
  },
  {
   "cell_type": "code",
   "execution_count": 9,
   "metadata": {},
   "outputs": [
    {
     "name": "stdout",
     "output_type": "stream",
     "text": [
      "The largest error is 0.0004995000000000005\n",
      "this being with a step size h=0.001\n"
     ]
    },
    {
     "data": {
      "image/png": "[encoded data removed]",
      "text/plain": [
       "<Figure size 432x288 with 1 Axes>"
      ]
     },
     "metadata": {
      "needs_background": "light"
     },
     "output_type": "display_data"
    }
   ],
   "source": [
    "# To solve the equation we could use the numpy.linalg library solver\n",
    "\n",
    "z = np.linalg.solve(A_d,b)\n",
    "\n",
    "# and now we plot it:\n",
    "\n",
    "plt.plot(x,z,color='blue')\n",
    "\n",
    "# and let's compare it with the real solution\n",
    "\n",
    "z_real = 0.5*x*(1-x)\n",
    "plt.plot(x,z_real,color='red')\n",
    "\n",
    "# and lastly, let's compute the maximum error between the real solution\n",
    "# and the computed solution\n",
    "\n",
    "# This computs the largest absolue error between z and z_real:\n",
    "error = np.max(np.abs(z-z_real))\n",
    "\n",
    "print('The largest error is '+str(error))\n",
    "print('this being with a step size h='+str(h))\n"
   ]
  },
  {
   "cell_type": "code",
   "execution_count": 51,
   "metadata": {},
   "outputs": [],
   "source": [
    "#########################\n",
    "# Sparse matrix approach #\n",
    "######################### \n",
    "\n",
    "h = 1e-6\n",
    "x = np.arange(0,1,h)\n",
    "n = len(x)\n",
    "\n",
    "# I initialize the matrix A_s\n",
    "# first, we will work with one of the many variable \n",
    "# types that scipy.sparse uses to create sparse matrices,\n",
    "# that is the 'Dictionary of Keys' (DOK) format\n",
    "\n",
    "# Initializes a nxn sparse matrix\n",
    "A_s = sps.dok_matrix((n,n))\n",
    "\n",
    "# A_s is basically a dictionary\n",
    "\n",
    "for k in range(1,len(x)-1):\n",
    "    A_s[k,k] = -2/(h**2)\n",
    "    A_s[k,k+1] = 1/(h**2)\n",
    "    A_s[k,k-1] = 1/(h**2)\n",
    "    \n",
    "A_s[0,0] = 1\n",
    "A_s[n-1,n-1] = 1\n"
   ]
  },
  {
   "cell_type": "code",
   "execution_count": 52,
   "metadata": {},
   "outputs": [],
   "source": [
    "b = np.ones(n)\n",
    "b[0] = 0\n",
    "b[n-1] = 0\n",
    "b = -b"
   ]
  },
  {
   "cell_type": "code",
   "execution_count": 55,
   "metadata": {},
   "outputs": [],
   "source": [
    "# and can in principle create a dense matrix from here on\n",
    "\n",
    "A_d2 = A_s.todense()\n",
    "np.max(np.abs(A_d-A_d2))\n",
    "\n",
    "# This shows even if we want to work with a dense matrix type\n",
    "# it is convenient sometimes to build it first as a sparse\n",
    "# and then use .todense() to make it dense\n",
    "\n",
    "# Also if I want to use pyplot's matshow:\n",
    "\n",
    "plt.matshow(A_d2)"
   ]
  },
  {
   "cell_type": "code",
   "execution_count": 56,
   "metadata": {},
   "outputs": [],
   "source": [
    "# Now we are ready to solve our problem with the sparse format\n",
    "\n",
    "from scipy.sparse import linalg as spla\n",
    "\n",
    "# spla has a function called sp_solve that will solve our problem\n",
    "\n",
    "z_s = spla.spsolve(A_s.tocsr(),b)"
   ]
  },
  {
   "cell_type": "code",
   "execution_count": 57,
   "metadata": {},
   "outputs": [
    {
     "data": {
      "image/png": "[encoded data removed]",
      "text/plain": [
       "<Figure size 432x288 with 1 Axes>"
      ]
     },
     "metadata": {
      "needs_background": "light"
     },
     "output_type": "display_data"
    }
   ],
   "source": [
    "plt.plot(x,z_s)\n",
    "z_real = (0.5)*x*(1-x)"
   ]
  },
  {
   "cell_type": "code",
   "execution_count": 66,
   "metadata": {},
   "outputs": [
    {
     "name": "stdout",
     "output_type": "stream",
     "text": [
      "The error is 4.999995000143778e-07\n",
      "The relative error is 4.999970000318776e-06\n"
     ]
    }
   ],
   "source": [
    "error = np.max(np.abs(z_s-z_real))\n",
    "rel_error = np.max(np.abs((z_s-z_real)/(z_real+1e-1)))\n",
    "print('The error is '+str(error))\n",
    "print('The relative error is '+str(rel_error))\n"
   ]
  },
  {
   "cell_type": "code",
   "execution_count": null,
   "metadata": {},
   "outputs": [],
   "source": []
  }
 ],
 "metadata": {
  "colab": {
   "provenance": []
  },
  "kernelspec": {
   "display_name": "Python 3",
   "language": "python",
   "name": "python3"
  },
  "language_info": {
   "codemirror_mode": {
    "name": "ipython",
    "version": 3
   },
   "file_extension": ".py",
   "mimetype": "text/x-python",
   "name": "python",
   "nbconvert_exporter": "python",
   "pygments_lexer": "ipython3",
   "version": "3.8.8"
  }
 },
 "nbformat": 4,
 "nbformat_minor": 1
}
