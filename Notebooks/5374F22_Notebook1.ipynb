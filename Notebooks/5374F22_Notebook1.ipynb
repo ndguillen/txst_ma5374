{
 "cells": [
  {
   "cell_type": "code",
   "execution_count": 1,
   "id": "b8d6270d",
   "metadata": {},
   "outputs": [],
   "source": [
    "# Hi Welcome to Python!\n",
    "# Technically, this is Jupyter\n",
    "# Jupyter stands for Julia Python R"
   ]
  },
  {
   "cell_type": "code",
   "execution_count": 2,
   "id": "de213a87",
   "metadata": {},
   "outputs": [],
   "source": [
    "# At the simplest level you can use a notebook as a fancy calculator!\n",
    "\n",
    "a = 2\n",
    "b = 2"
   ]
  },
  {
   "cell_type": "code",
   "execution_count": 3,
   "id": "572b29b7",
   "metadata": {},
   "outputs": [
    {
     "data": {
      "text/plain": [
       "4"
      ]
     },
     "execution_count": 3,
     "metadata": {},
     "output_type": "execute_result"
    }
   ],
   "source": [
    "a+b"
   ]
  },
  {
   "cell_type": "code",
   "execution_count": 4,
   "id": "6af7bda6",
   "metadata": {},
   "outputs": [],
   "source": [
    "b = 10"
   ]
  },
  {
   "cell_type": "code",
   "execution_count": 5,
   "id": "b4fd9b1f",
   "metadata": {},
   "outputs": [
    {
     "data": {
      "text/plain": [
       "12"
      ]
     },
     "execution_count": 5,
     "metadata": {},
     "output_type": "execute_result"
    }
   ],
   "source": [
    "a+b"
   ]
  },
  {
   "cell_type": "code",
   "execution_count": 7,
   "id": "4bfe727f",
   "metadata": {},
   "outputs": [],
   "source": [
    "# Cells come in different kinds, cells with (Python) code and cells with Markdown code\n",
    "\n",
    "# Markdown is a wrapper for html and Latex (and other things)"
   ]
  },
  {
   "cell_type": "markdown",
   "id": "e5c1de1b",
   "metadata": {},
   "source": [
    "# Hello! This is a header\n",
    "## This is a smaller header\n",
    "### This is a yet smaller header"
   ]
  },
  {
   "cell_type": "markdown",
   "id": "c8ea95d7",
   "metadata": {},
   "source": [
    "This is another Markdown cell.\n",
    "\n",
    "_This is how you do italics_\n",
    "\n",
    "*This is also a way to do italics*\n",
    "\n",
    "**This is how you do bold**\n",
    "\n",
    "* Look! its a bullet point\n",
    "* And another\n",
    "* and another...\n",
    "* Yes\n",
    "\n",
    "and lists? easy too:\n",
    "\n",
    "1. Item number one\n",
    "2. Item number two\n",
    "3. Item number three...\n",
    "\n",
    "    1. Item number one\n",
    "    2. Item number two\n",
    "    3. Item number three...\n",
    "    \n",
    "Most amazingly, you can also do LaTeX code: $ \\int_{-\\infty}^{\\infty} e^{-\\pi x^2}\\;dx = 1$\n",
    "\n",
    "Amazing!\n",
    "\n",
    "$$ x^2+1 = 0$$\n",
    "\n",
    "To do a series of equations\n",
    "\n",
    "$$\\begin{array}{l}\n",
    " x^2+1 \\\\\n",
    " x^2+2x+1\\\\\n",
    " \\cos(x)+\\sin(2x)\n",
    "\\end{array}$$\n"
   ]
  },
  {
   "cell_type": "markdown",
   "id": "8253f2ec",
   "metadata": {},
   "source": [
    "You can also do links, rather simply:\n",
    "    \n",
    "Click [here](https://www.google.com) to go to Google\n",
    "\n",
    "Here is a website that uses a lot of Markdown and has an interesting [book](https://mlstory.org/)"
   ]
  },
  {
   "cell_type": "code",
   "execution_count": 44,
   "id": "bfcaf244",
   "metadata": {},
   "outputs": [
    {
     "data": {
      "text/plain": [
       "[<matplotlib.lines.Line2D at 0x7fe3d79e5100>]"
      ]
     },
     "execution_count": 44,
     "metadata": {},
     "output_type": "execute_result"
    },
    {
     "data": {
      "image/png": "[encoded data removed]",
      "text/plain": [
       "<Figure size 432x288 with 1 Axes>"
      ]
     },
     "metadata": {
      "needs_background": "light"
     },
     "output_type": "display_data"
    }
   ],
   "source": [
    "# You can use this as your sandbox for coding\n",
    "# kind of like a super graphing calculator sitting on a browser tab\n",
    "\n",
    "import numpy as np\n",
    "import matplotlib.pyplot as plt\n",
    "\n",
    "x = np.linspace(-5,5,1000)\n",
    "y = np.sin(x) / x\n",
    "\n",
    "plt.plot(x,y)"
   ]
  },
  {
   "cell_type": "code",
   "execution_count": 29,
   "id": "4c19beed",
   "metadata": {},
   "outputs": [],
   "source": [
    "# You can define functions\n",
    "\n",
    "def Sum(a,b):\n",
    "    return a+b\n",
    "\n",
    "def Multiplication(a,b):\n",
    "    return a*b\n",
    "\n",
    "def IsThisTheNumberOne(x):\n",
    "    if x == 1:\n",
    "        return True\n",
    "    else:\n",
    "        return False\n",
    "\n"
   ]
  },
  {
   "cell_type": "code",
   "execution_count": 30,
   "id": "863adace",
   "metadata": {},
   "outputs": [
    {
     "ename": "NameError",
     "evalue": "name 'HelloWorld' is not defined",
     "output_type": "error",
     "traceback": [
      "\u001b[0;31m--------------------------------------------------------------------\u001b[0m",
      "\u001b[0;31mNameError\u001b[0m                          Traceback (most recent call last)",
      "\u001b[0;32m<ipython-input-30-45c4279b041a>\u001b[0m in \u001b[0;36m<module>\u001b[0;34m\u001b[0m\n\u001b[0;32m----> 1\u001b[0;31m \u001b[0mHelloWorld\u001b[0m\u001b[0;34m(\u001b[0m\u001b[0;34m)\u001b[0m\u001b[0;34m\u001b[0m\u001b[0;34m\u001b[0m\u001b[0m\n\u001b[0m",
      "\u001b[0;31mNameError\u001b[0m: name 'HelloWorld' is not defined"
     ]
    }
   ],
   "source": [
    "HelloWorld()"
   ]
  },
  {
   "cell_type": "code",
   "execution_count": 33,
   "id": "16c26f22",
   "metadata": {},
   "outputs": [
    {
     "name": "stdout",
     "output_type": "stream",
     "text": [
      "Howdy!\n"
     ]
    }
   ],
   "source": [
    "def HelloWorld():\n",
    "    print('Howdy!')\n",
    "    \n",
    "HelloWorld()"
   ]
  },
  {
   "cell_type": "code",
   "execution_count": 35,
   "id": "d046dd43",
   "metadata": {},
   "outputs": [],
   "source": [
    "# You can also work with strings\n",
    "\n",
    "String1 = \"Night gathers...\"\n",
    "String2 = \" and now my watch begins\"\n",
    "String3 = Sum(String1,String2)"
   ]
  },
  {
   "cell_type": "code",
   "execution_count": 38,
   "id": "2e1e6a21",
   "metadata": {},
   "outputs": [
    {
     "name": "stdout",
     "output_type": "stream",
     "text": [
      "Night gathers...\n",
      " and now my watch begins\n"
     ]
    }
   ],
   "source": [
    "print(String1)\n",
    "print(String2)"
   ]
  },
  {
   "cell_type": "code",
   "execution_count": 39,
   "id": "9f72bd55",
   "metadata": {},
   "outputs": [
    {
     "name": "stdout",
     "output_type": "stream",
     "text": [
      "Night gathers... and now my watch begins\n"
     ]
    }
   ],
   "source": [
    "print(String3)"
   ]
  },
  {
   "cell_type": "code",
   "execution_count": 40,
   "id": "944d8cd8",
   "metadata": {},
   "outputs": [],
   "source": [
    "# The way you import libraries is as follows\n",
    "\n",
    "import numpy\n",
    "import matplotlib"
   ]
  },
  {
   "cell_type": "code",
   "execution_count": 41,
   "id": "07420772",
   "metadata": {},
   "outputs": [],
   "source": [
    "# You can also give nicknames to libraries\n",
    "\n",
    "import numpy as np\n",
    "import matplotlib.pyplot as plt"
   ]
  },
  {
   "cell_type": "code",
   "execution_count": 45,
   "id": "661f6b84",
   "metadata": {},
   "outputs": [],
   "source": [
    "# In numpy we work with arrays, \n",
    "# and there are a number of functions\n",
    "# to create arrays and to operate on them\n",
    "\n",
    "x = np.arange(0,1,0.01) \n",
    "# Creates an array made out of equally spaced numbers\n",
    "# betwen 0 and 1, with a step size of 0.01"
   ]
  },
  {
   "cell_type": "code",
   "execution_count": 46,
   "id": "de28c722",
   "metadata": {},
   "outputs": [
    {
     "data": {
      "text/plain": [
       "array([0.  , 0.01, 0.02, 0.03, 0.04, 0.05, 0.06, 0.07, 0.08, 0.09, 0.1 ,\n",
       "       0.11, 0.12, 0.13, 0.14, 0.15, 0.16, 0.17, 0.18, 0.19, 0.2 , 0.21,\n",
       "       0.22, 0.23, 0.24, 0.25, 0.26, 0.27, 0.28, 0.29, 0.3 , 0.31, 0.32,\n",
       "       0.33, 0.34, 0.35, 0.36, 0.37, 0.38, 0.39, 0.4 , 0.41, 0.42, 0.43,\n",
       "       0.44, 0.45, 0.46, 0.47, 0.48, 0.49, 0.5 , 0.51, 0.52, 0.53, 0.54,\n",
       "       0.55, 0.56, 0.57, 0.58, 0.59, 0.6 , 0.61, 0.62, 0.63, 0.64, 0.65,\n",
       "       0.66, 0.67, 0.68, 0.69, 0.7 , 0.71, 0.72, 0.73, 0.74, 0.75, 0.76,\n",
       "       0.77, 0.78, 0.79, 0.8 , 0.81, 0.82, 0.83, 0.84, 0.85, 0.86, 0.87,\n",
       "       0.88, 0.89, 0.9 , 0.91, 0.92, 0.93, 0.94, 0.95, 0.96, 0.97, 0.98,\n",
       "       0.99])"
      ]
     },
     "execution_count": 46,
     "metadata": {},
     "output_type": "execute_result"
    }
   ],
   "source": [
    "x"
   ]
  },
  {
   "cell_type": "code",
   "execution_count": 49,
   "id": "f1138a10",
   "metadata": {},
   "outputs": [],
   "source": [
    "x = np.linspace(0,99,100)\n",
    "# Creates an array between 0 and 100\n",
    "# containing 100 equally spaced elements"
   ]
  },
  {
   "cell_type": "code",
   "execution_count": 50,
   "id": "1403542d",
   "metadata": {},
   "outputs": [
    {
     "data": {
      "text/plain": [
       "array([ 0.,  1.,  2.,  3.,  4.,  5.,  6.,  7.,  8.,  9., 10., 11., 12.,\n",
       "       13., 14., 15., 16., 17., 18., 19., 20., 21., 22., 23., 24., 25.,\n",
       "       26., 27., 28., 29., 30., 31., 32., 33., 34., 35., 36., 37., 38.,\n",
       "       39., 40., 41., 42., 43., 44., 45., 46., 47., 48., 49., 50., 51.,\n",
       "       52., 53., 54., 55., 56., 57., 58., 59., 60., 61., 62., 63., 64.,\n",
       "       65., 66., 67., 68., 69., 70., 71., 72., 73., 74., 75., 76., 77.,\n",
       "       78., 79., 80., 81., 82., 83., 84., 85., 86., 87., 88., 89., 90.,\n",
       "       91., 92., 93., 94., 95., 96., 97., 98., 99.])"
      ]
     },
     "execution_count": 50,
     "metadata": {},
     "output_type": "execute_result"
    }
   ],
   "source": [
    "x"
   ]
  },
  {
   "cell_type": "code",
   "execution_count": 56,
   "id": "f4d5f307",
   "metadata": {},
   "outputs": [
    {
     "name": "stdout",
     "output_type": "stream",
     "text": [
      "['One', 'Two', 'Six']\n",
      "[1, 2, 3, 4, 5]\n"
     ]
    },
    {
     "data": {
      "text/plain": [
       "[1.0, 2.0, 3.0, 4.0, 5.0]"
      ]
     },
     "execution_count": 56,
     "metadata": {},
     "output_type": "execute_result"
    }
   ],
   "source": [
    "# In Python there are arrays, lists, dictionaries\n",
    "\n",
    "# If you write with brackets, you create lists\n",
    "\n",
    "This_is_a_list = ['One', 'Two','Six']\n",
    "\n",
    "print(This_is_a_list)\n",
    "\n",
    "Another_list = [1,2,3,4,5]\n",
    "\n",
    "print(Another_list)\n",
    "\n",
    "Yet_another_list = [1.0,2.0,3.0,4.0,5.0]\n",
    "\n",
    "Yet_another_list"
   ]
  },
  {
   "cell_type": "code",
   "execution_count": 57,
   "id": "d30134e8",
   "metadata": {},
   "outputs": [
    {
     "data": {
      "text/plain": [
       "1"
      ]
     },
     "execution_count": 57,
     "metadata": {},
     "output_type": "execute_result"
    }
   ],
   "source": [
    "# To call elements from a list you use brackets\n",
    "\n",
    "Another_list[0]"
   ]
  },
  {
   "cell_type": "code",
   "execution_count": 59,
   "id": "725933a0",
   "metadata": {},
   "outputs": [
    {
     "name": "stdout",
     "output_type": "stream",
     "text": [
      "One\n",
      "Two\n",
      "Six\n",
      "1.0\n",
      "2.0\n",
      "3.0\n",
      "4.0\n",
      "5.0\n"
     ]
    }
   ],
   "source": [
    "for i in range(len(This_is_a_list)):\n",
    "    print(This_is_a_list[i])\n",
    "    \n",
    "for i in range(len(Yet_another_list)):\n",
    "    print(Yet_another_list[i])    "
   ]
  },
  {
   "cell_type": "code",
   "execution_count": 63,
   "id": "a4b9005e",
   "metadata": {},
   "outputs": [
    {
     "name": "stdout",
     "output_type": "stream",
     "text": [
      "<class 'float'>\n",
      "<class 'int'>\n",
      "<class 'list'>\n",
      "<class 'int'>\n"
     ]
    }
   ],
   "source": [
    "# To check a variable type we use the 'type' function\n",
    "# which returns a string naming the variable type\n",
    "\n",
    "print(type(1.0))\n",
    "print(type(1))\n",
    "print(type(Another_list))\n",
    "print(type(Another_list[0]))\n",
    "\n",
    "# The en"
   ]
  },
  {
   "cell_type": "code",
   "execution_count": 70,
   "id": "9787f557",
   "metadata": {},
   "outputs": [
    {
     "name": "stdout",
     "output_type": "stream",
     "text": [
      "<class 'numpy.ndarray'>\n",
      "[1 2 3 4 5]\n",
      "<class 'numpy.int64'>\n",
      "[1. 2. 3. 4. 5.]\n",
      "<class 'numpy.ndarray'>\n",
      "<class 'numpy.float64'>\n"
     ]
    }
   ],
   "source": [
    "# Now you can use a list whose entries are ints or floats\n",
    "# and pass it as an argument on the function numpy.array\n",
    "# to turn it into a numerical array\n",
    "\n",
    "array1 = np.array(Another_list)\n",
    "print(type(array1))\n",
    "print(array1)\n",
    "print(type(array1[0]))\n",
    "array2 = np.array(Yet_another_list)\n",
    "print(array2)\n",
    "print(type(array2))\n",
    "print(type(array2[0]))"
   ]
  },
  {
   "cell_type": "code",
   "execution_count": 72,
   "id": "2b5a2659",
   "metadata": {},
   "outputs": [
    {
     "name": "stdout",
     "output_type": "stream",
     "text": [
      "[ 2.  4.  6.  8. 10.]\n",
      "<class 'numpy.float64'>\n"
     ]
    }
   ],
   "source": [
    "array3 = array1+array2\n",
    "print(array3)\n",
    "print(type(array3[0]))"
   ]
  },
  {
   "cell_type": "code",
   "execution_count": 82,
   "id": "c3476737",
   "metadata": {},
   "outputs": [
    {
     "name": "stdout",
     "output_type": "stream",
     "text": [
      "[5. 3.]\n",
      "[2. 5.]\n",
      "[2. 5.]\n"
     ]
    }
   ],
   "source": [
    "# Matrices are basically arrays of arrays\n",
    "\n",
    "A = np.array([[1.0,1.0],[0.0,1.0]])\n",
    "A\n",
    "\n",
    "v = np.array([2.0,3.0])\n",
    "\n",
    "# This is one way of doing vector matrix multiplication\n",
    "print(A @ v)\n",
    "\n",
    "# Also from the right (if the shape of the matrix vector is right)\n",
    "\n",
    "print(v @ A)\n",
    "\n",
    "# Also A.T gives you the transpose\n",
    "\n",
    "print(A.T @ v)\n",
    "\n"
   ]
  },
  {
   "cell_type": "code",
   "execution_count": 85,
   "id": "58bc32e1",
   "metadata": {},
   "outputs": [
    {
     "data": {
      "text/plain": [
       "array([[2, 0, 0],\n",
       "       [0, 3, 0],\n",
       "       [0, 0, 5]])"
      ]
     },
     "execution_count": 85,
     "metadata": {},
     "output_type": "execute_result"
    }
   ],
   "source": [
    "# There are many functions to create matrices\n",
    "# For example\n",
    "\n",
    "D = np.diag([2,3,5])\n",
    "D\n",
    "\n",
    "# For more on the *many* ways of creating matrices\n",
    "# check out the SciPy lectures"
   ]
  },
  {
   "cell_type": "code",
   "execution_count": 86,
   "id": "5eb46d4d",
   "metadata": {},
   "outputs": [
    {
     "data": {
      "text/plain": [
       "1.0"
      ]
     },
     "execution_count": 86,
     "metadata": {},
     "output_type": "execute_result"
    }
   ],
   "source": [
    "# To call the elements of a 2D array you can use two brackets\n",
    "\n",
    "A[0][0]"
   ]
  },
  {
   "cell_type": "code",
   "execution_count": 93,
   "id": "880fb45a",
   "metadata": {},
   "outputs": [
    {
     "name": "stdout",
     "output_type": "stream",
     "text": [
      "1.0\n",
      "3\n",
      "[0 1 2 3 4 5 6 7 8 9]\n",
      "[10 11 12 13 14 15 16 17 18 19]\n",
      "[  0  11  24  39  56  75  96 119 144 171]\n",
      "735\n"
     ]
    }
   ],
   "source": [
    "# or commas\n",
    "\n",
    "print(A[0,0])\n",
    "print(D[1,1])\n",
    "\n",
    "# If you use the operator * with two arrays\n",
    "# of equal 'shape' you get multiplication component wise:\n",
    "\n",
    "x = np.arange(0,10,1)\n",
    "y = np.arange(10,20,1)\n",
    "print(x)\n",
    "print(y)\n",
    "print(x*y)\n",
    "\n",
    "# Compare with\n",
    "\n",
    "print(x@y) \n",
    "# (this returns the inner or dot product between the two vectors)"
   ]
  },
  {
   "cell_type": "code",
   "execution_count": 95,
   "id": "4ad7ff9a",
   "metadata": {},
   "outputs": [
    {
     "name": "stdout",
     "output_type": "stream",
     "text": [
      "(10,)\n",
      "(3, 3)\n"
     ]
    }
   ],
   "source": [
    "# A few more facts about arrays\n",
    "\n",
    "# They have a length, called by the function len\n",
    "\n",
    "len(x)\n",
    "\n",
    "# They also have a shape, called by the numpy function np.shape\n",
    "\n",
    "print(np.shape(x))\n",
    "print(np.shape(D))"
   ]
  },
  {
   "cell_type": "code",
   "execution_count": 101,
   "id": "71b091a5",
   "metadata": {},
   "outputs": [],
   "source": [
    "# Let's talk about other libraries\n",
    "# The most important one for us besides numpy and matplotlib\n",
    "# is the SciPy library, it has several submodules\n",
    "# that solve differential equations, generate random numbers,\n",
    "# solve nonlinear equations, optimize functions, and solve linear systems\n",
    "\n",
    "import scipy as scipy"
   ]
  },
  {
   "cell_type": "code",
   "execution_count": 96,
   "id": "e24df72e",
   "metadata": {},
   "outputs": [],
   "source": [
    "# There is a quick reference you can use here on Python,\n",
    "# simply write down the name of a library, or of a function followed by a '?'\n",
    "\n",
    "# Example:\n",
    "\n",
    "np?"
   ]
  },
  {
   "cell_type": "code",
   "execution_count": 99,
   "id": "caf43f95",
   "metadata": {},
   "outputs": [],
   "source": [
    "# You can also do it for functions\n",
    "\n",
    "np.arange?\n",
    "np.linspace?\n",
    "\n",
    "# Great way to refresh details about syntax"
   ]
  },
  {
   "cell_type": "code",
   "execution_count": 102,
   "id": "69e89227",
   "metadata": {},
   "outputs": [],
   "source": [
    "# Let's explore the Scipy module\n",
    "\n",
    "scipy?"
   ]
  },
  {
   "cell_type": "code",
   "execution_count": 103,
   "id": "78cdab17",
   "metadata": {},
   "outputs": [],
   "source": [
    "import scipy.stats as sts"
   ]
  },
  {
   "cell_type": "code",
   "execution_count": 107,
   "id": "c1483030",
   "metadata": {},
   "outputs": [],
   "source": [
    "sts?"
   ]
  },
  {
   "cell_type": "code",
   "execution_count": 125,
   "id": "c19b66be",
   "metadata": {},
   "outputs": [],
   "source": [
    "# Having seen the list of functions in sts\n",
    "# We note there are many functions that can generate random variables\n",
    "# Let us learn aboutnthe stats.uniform function\n",
    "\n",
    "sts.uniform?"
   ]
  },
  {
   "cell_type": "code",
   "execution_count": 124,
   "id": "538ef5e7",
   "metadata": {},
   "outputs": [
    {
     "name": "stdout",
     "output_type": "stream",
     "text": [
      "[0.62565905 0.4886034  0.76027947 0.34072465 0.77202621]\n",
      "[0.45425626 0.82224203 0.05620318 0.80289511 0.28711439]\n",
      "[0.83379528 0.74920448 0.28920344 0.03465239 0.26951783]\n"
     ]
    }
   ],
   "source": [
    "unif = sts.uniform(0,1)\n",
    "x1 = unif.rvs(size=5)\n",
    "x2 = unif.rvs(size=5)\n",
    "x3 = unif.rvs(size=5)\n",
    "print(x1)\n",
    "print(x2)\n",
    "print(x3)"
   ]
  },
  {
   "cell_type": "code",
   "execution_count": null,
   "id": "33acd4c5",
   "metadata": {},
   "outputs": [],
   "source": []
  },
  {
   "cell_type": "code",
   "execution_count": null,
   "id": "06327aa3",
   "metadata": {},
   "outputs": [],
   "source": []
  }
 ],
 "metadata": {
  "kernelspec": {
   "display_name": "Python 3",
   "language": "python",
   "name": "python3"
  },
  "language_info": {
   "codemirror_mode": {
    "name": "ipython",
    "version": 3
   },
   "file_extension": ".py",
   "mimetype": "text/x-python",
   "name": "python",
   "nbconvert_exporter": "python",
   "pygments_lexer": "ipython3",
   "version": "3.8.8"
  }
 },
 "nbformat": 4,
 "nbformat_minor": 5
}
